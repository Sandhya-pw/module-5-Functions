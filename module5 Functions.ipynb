{
  "nbformat": 4,
  "nbformat_minor": 0,
  "metadata": {
    "colab": {
      "provenance": []
    },
    "kernelspec": {
      "name": "python3",
      "display_name": "Python 3"
    },
    "language_info": {
      "name": "python"
    }
  },
  "cells": [
    {
      "cell_type": "code",
      "execution_count": null,
      "metadata": {
        "id": "BG8bPceKd_wV",
        "colab": {
          "base_uri": "https://localhost:8080/"
        },
        "outputId": "8a567d1e-a50e-4d93-b849-989396d4222a"
      },
      "outputs": [
        {
          "output_type": "stream",
          "name": "stdout",
          "text": [
            "Welcome Subha\n",
            "Hello Morning\n"
          ]
        }
      ],
      "source": [
        "#Theory Questions:\n",
        "#Note: For each theory Question, give at least one example.\n",
        "\n",
        "#1. What is the difference between a function and a method in Python?\n",
        "\n",
        "'''Function\n",
        "A function is a block of reusable code that is defined using the def keyword.\n",
        "It is independent and can be called without being associated with an object.\n",
        "Can take arguments and return values.'''\n",
        "\n",
        "def greet(name):   #greet is function here, taking name argument\n",
        "    print(\"Welcome\", name)\n",
        "greet(\"Subha\")\n",
        "\n",
        "\n",
        "'''Method\n",
        "A method is similar to a function but is associated with an object.\n",
        "It is defined inside a class and operates on instances of that class.\n",
        "The first parameter is usually self, which refers to the instance of the class.'''\n",
        "\n",
        "class Person:\n",
        "    def __init__(self, name):\n",
        "        self.name = name\n",
        "\n",
        "    def greet(self):    #greet is method here\n",
        "        print(\"Hello\", self.name)\n",
        "\n",
        "p = Person(\"Morning\")\n",
        "p.greet()\n",
        "\n"
      ]
    },
    {
      "cell_type": "code",
      "source": [
        "#2. Explain the concept of function arguments and parameters in Python.\n",
        "''' Function Parameters\n",
        "By defination it is the variable defined in the function, as a place holder for the values.\n",
        "These values need to be pass while calling or executing that function.\n",
        "This makes funtion more general and reusable in Python.\n",
        "\n",
        "Function Arguments\n",
        "The values we pass for the parameters while calling or executing that function are called as function arguments.\n",
        "Values are in corresponds to their parameter.\n",
        "'''\n",
        "def greet(name):\n",
        "    print(f\"Hello, {name}!\") #name is functional parameter\n",
        "\n",
        "greet(\"PW\")   #PW is the functional Argument\n"
      ],
      "metadata": {
        "id": "2kAO9abU2ycW",
        "colab": {
          "base_uri": "https://localhost:8080/"
        },
        "outputId": "2844a123-d539-498f-e9be-dde2f30d2abd"
      },
      "execution_count": null,
      "outputs": [
        {
          "output_type": "stream",
          "name": "stdout",
          "text": [
            "Hello, PW!\n"
          ]
        }
      ]
    },
    {
      "cell_type": "code",
      "source": [
        "#3. What are the different ways to define and call a function in Python?\n",
        "'''By Function definition(def keyword)'''\n",
        "def greet():\n",
        "    print(\"Hello, World!\")\n",
        "greet() #print displays the value to the screen immediately.\n",
        "\n",
        "'''Function with parameters (parentheses)'''\n",
        "def greets(name):   #name is a parameter here\n",
        "    print(f\"Hello, {name}!\")\n",
        "greets(\"PW\")\n",
        "\n",
        "'''Function with return value:'''\n",
        "def greety():\n",
        "    return \"hello, world!\" #return sends a value back to the caller\n",
        "print(greety())\n",
        "\n",
        "'''Types of Arguments: Positional, Default, Variable length argument, Keyword argument.'''\n",
        "def add(a, b): #Positional Arguments\n",
        "    return a + b\n",
        "result = add(\"Skill\", \"PW\")\n",
        "print(result)  # order in which arguments are provided will be taken in same order\n",
        "\n",
        "def add(a,b,c=0): #Default argument,should be in last\n",
        "    return a+b+c\n",
        "result = add(1,2) #since value of c set default as zero, not given any avlue to it, stills give the result and not an error.\n",
        "print(result)\n",
        "\n",
        "def sum_num(*numbers): #Variable length argument\n",
        "  return sum(numbers)\n",
        "print(sum_num(1,2,3,4,5)) #any length of variable can be taken\n",
        "\n",
        "def emp_details(**info): #Keyword Arguments\n",
        "  print (info)\n",
        "emp_details(name=\"Sun\", age=30) #values of key passed\n",
        "\n",
        "''' Special Function Types: Lambda, recursion, map, reduce, filter.'''\n",
        "\n",
        "l=[1,2,3,4,5]\n",
        "\n",
        "sq_lambda=lambda x:x**2   #lambda function\n",
        "print(sq_lambda(2))\n",
        "\n",
        "def fact_num(n):\n",
        "  if n==0:     # break statment, where recurrsion will break\n",
        "    return 1\n",
        "  else:\n",
        "    return n*fact_num(n-1)   #recurrsion of same function\n",
        "print(fact_num(5))\n",
        "\n",
        "l=[1,2,3,4,5,6]\n",
        "def sq(x):\n",
        "  return x**2\n",
        "print(list(map(sq,l)))  #map square function in list\n",
        "\n",
        "from functools import reduce\n",
        "l=[1,2,3,4,5,6]\n",
        "print(reduce(lambda a,b:a+b,l))  #reduce the list\n",
        "\n",
        "l=[1,2,3,4,5,6]\n",
        "print(list(filter(lambda x:x%2!=0,l))) #filters the odd values from list\n"
      ],
      "metadata": {
        "id": "EgTlRIEP2yqj",
        "colab": {
          "base_uri": "https://localhost:8080/"
        },
        "outputId": "f543fcfa-dca5-4b51-8b0a-cce8482980a7"
      },
      "execution_count": null,
      "outputs": [
        {
          "output_type": "stream",
          "name": "stdout",
          "text": [
            "Hello, World!\n",
            "Hello, PW!\n",
            "hello, world!\n",
            "SkillPW\n",
            "3\n",
            "15\n",
            "{'name': 'Sun', 'age': 30}\n",
            "4\n",
            "120\n",
            "[1, 4, 9, 16, 25, 36]\n",
            "21\n",
            "[1, 3, 5]\n"
          ]
        }
      ]
    },
    {
      "cell_type": "code",
      "source": [
        "#4. What is the purpose of the `return` statement in a Python function?\n",
        "'''The return statement is used inside a function to give back a result to the place where the function was called from.\n",
        "When a function returns a value, you can use that value outside the function.\n",
        "If you don't use a return in a function, the function will return None by default,\n",
        "because then the function only prints something, but it doesn't return anything. '''\n",
        "\n",
        "def add(a, b):\n",
        "    return a + b  # Return the sum of a and b\n",
        "\n",
        "result = add(5, 3)  # This calls the function and stores the returned result in 'result'\n",
        "print(result)  # This will print result\n",
        "\n",
        "def add(x, y):\n",
        "  print(x+y)\n",
        "\n",
        "answer = add(1, 2)\n",
        "print(answer)  #print None"
      ],
      "metadata": {
        "id": "TqdQYFjE2zJH",
        "colab": {
          "base_uri": "https://localhost:8080/"
        },
        "outputId": "c6b66e53-4a0a-4bf1-fd9f-56367e23202f"
      },
      "execution_count": null,
      "outputs": [
        {
          "output_type": "stream",
          "name": "stdout",
          "text": [
            "8\n",
            "3\n",
            "None\n"
          ]
        }
      ]
    },
    {
      "cell_type": "code",
      "source": [
        "#5. What are iterators in Python and how do they differ from iterables?\n",
        "'''ITERABLES:\n",
        "An Iterable is any python object/sequential structure/data structure that is\n",
        "capable of returning its members one by one,those are available in that particular data sturcture.\n",
        "Therefore, permitting it to be iterated over, in a for loop.\n",
        "eg. dictionaries, list, tuple, set etc.'''\n",
        "\n",
        "lis=[1,2,3]      #list is iterable\n",
        "for i in lis:\n",
        "  print(i)\n",
        "\n",
        "'''ITERATORS:\n",
        " The intermediate steps that create an object that is iterable and\n",
        " implements iter() and next() method, are called Iterators.'''\n",
        "\n",
        "\n",
        "l=iter([10,20,30])  #iter() method\n",
        "l\n",
        "next(l)             #next() method\n",
        "next(l)\n",
        "next(l)             #next() will give StopIteration exception as list ends"
      ],
      "metadata": {
        "id": "GcAFnt-42zKt",
        "colab": {
          "base_uri": "https://localhost:8080/"
        },
        "outputId": "4cab2f5d-f26c-4439-9b95-135b1082e4b9"
      },
      "execution_count": null,
      "outputs": [
        {
          "output_type": "stream",
          "name": "stdout",
          "text": [
            "1\n",
            "2\n",
            "3\n"
          ]
        },
        {
          "output_type": "execute_result",
          "data": {
            "text/plain": [
              "30"
            ]
          },
          "metadata": {},
          "execution_count": 80
        }
      ]
    },
    {
      "cell_type": "code",
      "source": [
        "#6. Explain the concept of generators in Python and how they are defined.\n",
        "'''A generator is a special type of iterator that allows to iterate over a sequence of data\n",
        "without storing the entire sequence in memory at once.\n",
        "\n",
        "Normal iterators like list, first store all sequence, do all the computation and then returns the result in one go.\n",
        "While a generator yields one value at a time, and it pauses its execution after each yield.\n",
        "The next time the generator is called (next()), it resumes from where it left off.\n",
        "This allows generators to be more memory efficient when dealing with large data sets.'''\n",
        "\n",
        "def fib(n):\n",
        "  a=0\n",
        "  b=1\n",
        "  for i in range(n):\n",
        "    yield a      #uses yield at place of return\n",
        "    a,b=b,a+b\n",
        "f=fib(3)\n",
        "print(next(f))\n",
        "print(next(f))\n",
        "print(next(f))"
      ],
      "metadata": {
        "id": "zC9K8jCg2zOH",
        "colab": {
          "base_uri": "https://localhost:8080/"
        },
        "outputId": "d6302ade-b116-4ac1-9211-23f6290ca77c"
      },
      "execution_count": null,
      "outputs": [
        {
          "output_type": "stream",
          "name": "stdout",
          "text": [
            "0\n",
            "1\n",
            "1\n"
          ]
        }
      ]
    },
    {
      "cell_type": "code",
      "source": [
        "#7. What are the advantages of using generators over regular functions?\n",
        "'''\n",
        "Generator function:\n",
        "1.Memory Effecient; as generates values one by one, consuming less memory.\n",
        "2.Lazy Evaluation; as computes values only when needed, saving computation time\n",
        "3.Infinite Sequences; Can handle infinite sequences as require less memory.\n",
        "4.Performance with Large Data; Processes data one item at a time, ideal for large datasets.\n",
        "5.Code Simplicity, Simplifies code, especially for complex iterations and pipelines.\n",
        "6.Composability, Easy to compose multiple generators into a pipeline.\n",
        "7.Asynchronous Programming, Useful in asynchronous programming for pausing and resuming tasks\n",
        "8.Ideal for scenarios where memory efficiency, lazy evaluation,\n",
        "and the ability to handle large or infinite data streams are needed.\n",
        "\n",
        "Regular function:\n",
        "1.Memory Effecient; Stores entire collection in memory at once\n",
        "2.Lazy Evaluation; Computes all values at once, regardless of need.\n",
        "3. Infinite Sequences; Cannot handle infinite sequences due to memory constraints.\n",
        "4.Performance with Large Data; Computes and stores entire dataset at once, can be inefficient.\n",
        "5.Code Simplicity, May require more code to handle complex iteration logic.\n",
        "6.Composability, More difficult to compose for complex data pipelines.\n",
        "7.Asynchronous Programming, Not suitable for async scenarios.\n",
        "8.Best suited for small-to-medium datasets where the entire dataset needs to be computed at once,\n",
        " or the operation doesn’t require iteration.'''\n",
        "\n",
        "def get_numbers(n):\n",
        "    return [i for i in range(n)]  # Returns the entire list in memory\n",
        "\n",
        "def get_numbers(n):\n",
        "    for i in range(n):\n",
        "        yield i  # Yields one number at a time, no need to store the whole list\n"
      ],
      "metadata": {
        "id": "gvkh7lAS3KPX"
      },
      "execution_count": 16,
      "outputs": []
    },
    {
      "cell_type": "code",
      "source": [
        "#8. What is a lambda function in Python and when is it typically used?\n",
        "\n",
        "'''DEFINATION:\n",
        "It is an anonymous or short-hand function that is defined using the lambda keyword.\n",
        "syntax: lambda arguments: expression or computation.\n",
        "It do not require use of def keyword and return statements with it.\n",
        "\n",
        "USES:\n",
        "1. When short-operations are needed.\n",
        "2. With higher-order functions(that take other functions as input are high order functions)\n",
        " (like map(), filter(), sorted(), etc.), for clear and concise coding.\n",
        "3. To generate fibonacci series and similar series.\n",
        "4. With the sorted() function to define a custom sorting key.'''\n",
        "\n",
        "le=[\"PW\", \"data science\", \"online\", \"class\"] #first calculate the length, then sort\n",
        "print(sorted(le, key=lambda x: len(x))) #default sorting is accending alphabetically, now is by length in accending order\n"
      ],
      "metadata": {
        "id": "FTsppqqV3KEa",
        "colab": {
          "base_uri": "https://localhost:8080/"
        },
        "outputId": "dae7366d-e48e-4151-eb51-88a5097cb590"
      },
      "execution_count": null,
      "outputs": [
        {
          "output_type": "stream",
          "name": "stdout",
          "text": [
            "['PW', 'class', 'online', 'data science']\n"
          ]
        }
      ]
    },
    {
      "cell_type": "code",
      "source": [
        "#9. Explain the purpose and usage of the `map()` function in Python.\n",
        "''' It is use to apply a specified functions to each of the item of an iterable like list, tuple etc.\n",
        "\n",
        "USE: It is typically used to transform or modify all elements of an iterable without using a loop and\n",
        "in a concise and memory-efficient way.'''\n",
        "def add_num(x):\n",
        "    return x + 5\n",
        "\n",
        "numbers = [1, 2, 3, 4]\n",
        "result = map(add_num, numbers)\n",
        "print(list(result))\n",
        "\n"
      ],
      "metadata": {
        "id": "7LENBlzR3J6R",
        "colab": {
          "base_uri": "https://localhost:8080/"
        },
        "outputId": "81e585a5-2a78-454e-e8ad-136643089612"
      },
      "execution_count": null,
      "outputs": [
        {
          "output_type": "stream",
          "name": "stdout",
          "text": [
            "[6, 7, 8, 9]\n"
          ]
        }
      ]
    },
    {
      "cell_type": "code",
      "source": [
        "#10. What is the difference between `map()`, `reduce()`, and `filter()` functions in Python?\n",
        "'''These all are higher-order functions in Python, and are\n",
        "helpful for performing operations on iterables (like lists, tuples, etc.) without using loops.\n",
        "\n",
        "MAP:\n",
        "Syntax: map(function, iterable).\n",
        "Purpose: Apply a function to each item of an iterable.\n",
        "Input: Function, Iterable (one iterable)\n",
        "Output: New iterable (mapped values)\n",
        "Use case: Transforming data by applying a function to each element.'''\n",
        "print(list(map(lambda x: x**2, [1, 2, 3])))\n",
        "\n",
        "'''REDUCE:\n",
        "Syntax: reduce(function, iterable, [initializer]).\n",
        "Purpose: Apply a binary function cumulatively to an iterable.\n",
        "Input: Function (binary), Iterable (one iterable)\n",
        "Output: Single value (result of cumulative operation)\n",
        "Use case: Reducing a sequence into a single value (e.g., sum, product).'''\n",
        "print(reduce(lambda x, y: x + y, [1, 2, 3, 4]))\n",
        "\n",
        "'''FILTER:\n",
        "Syntax: filter(function, iterable).\n",
        "Purpose: Filter elements based on a condition.\n",
        "Input: Function (returns True/False), Iterable\n",
        "Output: Filtered iterable (elements that pass the condition)\n",
        "Use case: Excluding elements based on a condition (e.g., filtering even numbers).'''\n",
        "print(list(filter(lambda x: x % 2 == 0, [1, 2, 3, 4])))\n"
      ],
      "metadata": {
        "id": "L6zU7dGX3JwH",
        "colab": {
          "base_uri": "https://localhost:8080/"
        },
        "outputId": "46c35fc0-c66d-4e53-9f10-d8d35f636561"
      },
      "execution_count": null,
      "outputs": [
        {
          "output_type": "stream",
          "name": "stdout",
          "text": [
            "[1, 4, 9]\n",
            "10\n",
            "[2, 4]\n"
          ]
        }
      ]
    },
    {
      "cell_type": "code",
      "source": [
        "#11. Using pen & Paper write the internal mechanism for sum operation using reduce function on this given\n",
        "#list:[47,11,42,13];\n",
        "#(Attach paper image for this answer) in doc or colab notebook.\n",
        "\n",
        "from functools import reduce\n",
        "\n",
        "my_list = [47, 11, 42, 13]\n",
        "result = reduce(lambda x, y: x + y, my_list)  ## Sum, using reduce\n",
        "print(result)"
      ],
      "metadata": {
        "id": "ktzvtYph3Jlt",
        "colab": {
          "base_uri": "https://localhost:8080/"
        },
        "outputId": "6e5c0c7b-ddc2-4ec6-c300-1589e8a2b9a3"
      },
      "execution_count": null,
      "outputs": [
        {
          "output_type": "stream",
          "name": "stdout",
          "text": [
            "113\n"
          ]
        }
      ]
    },
    {
      "cell_type": "code",
      "source": [
        "from google.colab import files\n",
        "uploaded = files.upload()"
      ],
      "metadata": {
        "colab": {
          "base_uri": "https://localhost:8080/",
          "height": 73
        },
        "id": "L7ycgl_tUWin",
        "outputId": "68799c4a-102a-4bf2-c968-bae7a9a285ce"
      },
      "execution_count": 1,
      "outputs": [
        {
          "output_type": "display_data",
          "data": {
            "text/plain": [
              "<IPython.core.display.HTML object>"
            ],
            "text/html": [
              "\n",
              "     <input type=\"file\" id=\"files-dd0a01c3-22b8-445a-9500-12d2dbac1a5a\" name=\"files[]\" multiple disabled\n",
              "        style=\"border:none\" />\n",
              "     <output id=\"result-dd0a01c3-22b8-445a-9500-12d2dbac1a5a\">\n",
              "      Upload widget is only available when the cell has been executed in the\n",
              "      current browser session. Please rerun this cell to enable.\n",
              "      </output>\n",
              "      <script>// Copyright 2017 Google LLC\n",
              "//\n",
              "// Licensed under the Apache License, Version 2.0 (the \"License\");\n",
              "// you may not use this file except in compliance with the License.\n",
              "// You may obtain a copy of the License at\n",
              "//\n",
              "//      http://www.apache.org/licenses/LICENSE-2.0\n",
              "//\n",
              "// Unless required by applicable law or agreed to in writing, software\n",
              "// distributed under the License is distributed on an \"AS IS\" BASIS,\n",
              "// WITHOUT WARRANTIES OR CONDITIONS OF ANY KIND, either express or implied.\n",
              "// See the License for the specific language governing permissions and\n",
              "// limitations under the License.\n",
              "\n",
              "/**\n",
              " * @fileoverview Helpers for google.colab Python module.\n",
              " */\n",
              "(function(scope) {\n",
              "function span(text, styleAttributes = {}) {\n",
              "  const element = document.createElement('span');\n",
              "  element.textContent = text;\n",
              "  for (const key of Object.keys(styleAttributes)) {\n",
              "    element.style[key] = styleAttributes[key];\n",
              "  }\n",
              "  return element;\n",
              "}\n",
              "\n",
              "// Max number of bytes which will be uploaded at a time.\n",
              "const MAX_PAYLOAD_SIZE = 100 * 1024;\n",
              "\n",
              "function _uploadFiles(inputId, outputId) {\n",
              "  const steps = uploadFilesStep(inputId, outputId);\n",
              "  const outputElement = document.getElementById(outputId);\n",
              "  // Cache steps on the outputElement to make it available for the next call\n",
              "  // to uploadFilesContinue from Python.\n",
              "  outputElement.steps = steps;\n",
              "\n",
              "  return _uploadFilesContinue(outputId);\n",
              "}\n",
              "\n",
              "// This is roughly an async generator (not supported in the browser yet),\n",
              "// where there are multiple asynchronous steps and the Python side is going\n",
              "// to poll for completion of each step.\n",
              "// This uses a Promise to block the python side on completion of each step,\n",
              "// then passes the result of the previous step as the input to the next step.\n",
              "function _uploadFilesContinue(outputId) {\n",
              "  const outputElement = document.getElementById(outputId);\n",
              "  const steps = outputElement.steps;\n",
              "\n",
              "  const next = steps.next(outputElement.lastPromiseValue);\n",
              "  return Promise.resolve(next.value.promise).then((value) => {\n",
              "    // Cache the last promise value to make it available to the next\n",
              "    // step of the generator.\n",
              "    outputElement.lastPromiseValue = value;\n",
              "    return next.value.response;\n",
              "  });\n",
              "}\n",
              "\n",
              "/**\n",
              " * Generator function which is called between each async step of the upload\n",
              " * process.\n",
              " * @param {string} inputId Element ID of the input file picker element.\n",
              " * @param {string} outputId Element ID of the output display.\n",
              " * @return {!Iterable<!Object>} Iterable of next steps.\n",
              " */\n",
              "function* uploadFilesStep(inputId, outputId) {\n",
              "  const inputElement = document.getElementById(inputId);\n",
              "  inputElement.disabled = false;\n",
              "\n",
              "  const outputElement = document.getElementById(outputId);\n",
              "  outputElement.innerHTML = '';\n",
              "\n",
              "  const pickedPromise = new Promise((resolve) => {\n",
              "    inputElement.addEventListener('change', (e) => {\n",
              "      resolve(e.target.files);\n",
              "    });\n",
              "  });\n",
              "\n",
              "  const cancel = document.createElement('button');\n",
              "  inputElement.parentElement.appendChild(cancel);\n",
              "  cancel.textContent = 'Cancel upload';\n",
              "  const cancelPromise = new Promise((resolve) => {\n",
              "    cancel.onclick = () => {\n",
              "      resolve(null);\n",
              "    };\n",
              "  });\n",
              "\n",
              "  // Wait for the user to pick the files.\n",
              "  const files = yield {\n",
              "    promise: Promise.race([pickedPromise, cancelPromise]),\n",
              "    response: {\n",
              "      action: 'starting',\n",
              "    }\n",
              "  };\n",
              "\n",
              "  cancel.remove();\n",
              "\n",
              "  // Disable the input element since further picks are not allowed.\n",
              "  inputElement.disabled = true;\n",
              "\n",
              "  if (!files) {\n",
              "    return {\n",
              "      response: {\n",
              "        action: 'complete',\n",
              "      }\n",
              "    };\n",
              "  }\n",
              "\n",
              "  for (const file of files) {\n",
              "    const li = document.createElement('li');\n",
              "    li.append(span(file.name, {fontWeight: 'bold'}));\n",
              "    li.append(span(\n",
              "        `(${file.type || 'n/a'}) - ${file.size} bytes, ` +\n",
              "        `last modified: ${\n",
              "            file.lastModifiedDate ? file.lastModifiedDate.toLocaleDateString() :\n",
              "                                    'n/a'} - `));\n",
              "    const percent = span('0% done');\n",
              "    li.appendChild(percent);\n",
              "\n",
              "    outputElement.appendChild(li);\n",
              "\n",
              "    const fileDataPromise = new Promise((resolve) => {\n",
              "      const reader = new FileReader();\n",
              "      reader.onload = (e) => {\n",
              "        resolve(e.target.result);\n",
              "      };\n",
              "      reader.readAsArrayBuffer(file);\n",
              "    });\n",
              "    // Wait for the data to be ready.\n",
              "    let fileData = yield {\n",
              "      promise: fileDataPromise,\n",
              "      response: {\n",
              "        action: 'continue',\n",
              "      }\n",
              "    };\n",
              "\n",
              "    // Use a chunked sending to avoid message size limits. See b/62115660.\n",
              "    let position = 0;\n",
              "    do {\n",
              "      const length = Math.min(fileData.byteLength - position, MAX_PAYLOAD_SIZE);\n",
              "      const chunk = new Uint8Array(fileData, position, length);\n",
              "      position += length;\n",
              "\n",
              "      const base64 = btoa(String.fromCharCode.apply(null, chunk));\n",
              "      yield {\n",
              "        response: {\n",
              "          action: 'append',\n",
              "          file: file.name,\n",
              "          data: base64,\n",
              "        },\n",
              "      };\n",
              "\n",
              "      let percentDone = fileData.byteLength === 0 ?\n",
              "          100 :\n",
              "          Math.round((position / fileData.byteLength) * 100);\n",
              "      percent.textContent = `${percentDone}% done`;\n",
              "\n",
              "    } while (position < fileData.byteLength);\n",
              "  }\n",
              "\n",
              "  // All done.\n",
              "  yield {\n",
              "    response: {\n",
              "      action: 'complete',\n",
              "    }\n",
              "  };\n",
              "}\n",
              "\n",
              "scope.google = scope.google || {};\n",
              "scope.google.colab = scope.google.colab || {};\n",
              "scope.google.colab._files = {\n",
              "  _uploadFiles,\n",
              "  _uploadFilesContinue,\n",
              "};\n",
              "})(self);\n",
              "</script> "
            ]
          },
          "metadata": {}
        },
        {
          "output_type": "stream",
          "name": "stdout",
          "text": [
            "Saving Answer 11 functions theroy.jpg to Answer 11 functions theroy.jpg\n"
          ]
        }
      ]
    },
    {
      "cell_type": "code",
      "source": [
        "import os\n",
        "os.listdir(\"/content/\")"
      ],
      "metadata": {
        "colab": {
          "base_uri": "https://localhost:8080/"
        },
        "id": "8O8NyzJFVr-f",
        "outputId": "61917e05-7c02-462b-84f5-90db85b1d5d7"
      },
      "execution_count": 2,
      "outputs": [
        {
          "output_type": "execute_result",
          "data": {
            "text/plain": [
              "['.config', 'drive', 'Answer 11 functions theroy.jpg', 'sample_data']"
            ]
          },
          "metadata": {},
          "execution_count": 2
        }
      ]
    },
    {
      "cell_type": "code",
      "source": [
        "from PIL import Image\n",
        "from IPython.display import display\n",
        "image_path = \"Answer 11 functions theroy.jpg\"\n",
        "img = Image.open(image_path)\n",
        "img_resized = img.resize((300, 300))\n",
        "display(img_resized)\n",
        "img_resized.save(\"Answer_11_functions_theory_resized.jpg\")\n",
        "\n"
      ],
      "metadata": {
        "colab": {
          "base_uri": "https://localhost:8080/",
          "height": 317
        },
        "id": "M1KcylqLX7wY",
        "outputId": "7c3fd2a0-4d79-458b-e4b9-936e1e220bb3"
      },
      "execution_count": 15,
      "outputs": [
        {
          "output_type": "display_data",
          "data": {
            "text/plain": [
              "<PIL.Image.Image image mode=RGB size=300x300>"
            ],
            "image/png": "[encoded data removed]",
            "image/jpeg": "[encoded data removed]"
          },
          "metadata": {}
        }
      ]
    },
    {
      "cell_type": "code",
      "source": [
        "#Practical Questions:\n",
        "#1. Write a Python function that takes a list of numbers as input and returns the sum of all even numbers in\n",
        "#the list.\n",
        "user_input=input(\"Enter the list with space: \")\n",
        "user_input_listed=list(map(int,user_input.split(\" \"))) #this list now can process by def function to give final result\n",
        "\n",
        "def num(n):\n",
        "  answer=0\n",
        "  for i in n:\n",
        "    if i%2==0:\n",
        "      print(i)\n",
        "      answer+=i\n",
        "  return answer\n",
        "\n",
        "result=num(user_input_listed) #calling num(), passing user input modifed for the purpose\n",
        "print(\"sum of even numbers in the input is:\",result)"
      ],
      "metadata": {
        "id": "pTStYG5I3mFP",
        "colab": {
          "base_uri": "https://localhost:8080/"
        },
        "outputId": "3bfecc4a-8bb1-48dd-86c7-e05183b045b0"
      },
      "execution_count": null,
      "outputs": [
        {
          "output_type": "stream",
          "name": "stdout",
          "text": [
            "Enter the list with space: 1 2 3 4 5\n",
            "2\n",
            "4\n",
            "sum of even numbers in the input is: 6\n"
          ]
        }
      ]
    },
    {
      "cell_type": "code",
      "source": [
        "#2. Create a Python function that accepts a string and returns the reverse of that string.\n",
        "s_input = input(\"Enter a string: \")\n",
        "def reverse_string(s):\n",
        "    return s[::-1]  # Reverse the string using slicing\n",
        "\n",
        "result=reverse_string(s_input)\n",
        "print(result)\n"
      ],
      "metadata": {
        "id": "UhEJshWJ3mQY",
        "colab": {
          "base_uri": "https://localhost:8080/"
        },
        "outputId": "39a6c51e-331c-43d4-f9ed-1e8f2bdaf0e8"
      },
      "execution_count": null,
      "outputs": [
        {
          "output_type": "stream",
          "name": "stdout",
          "text": [
            "Enter a string: Good Morning\n",
            "gninroM dooG\n"
          ]
        }
      ]
    },
    {
      "cell_type": "code",
      "source": [
        "#3. Implement a Python function that takes a list of integers and returns a new list containing the squares of\n",
        "#each number.\n",
        "s=input(\"Enter the list with space: \")\n",
        "listed_s=list(map(int,s.split(\" \")))\n",
        "\n",
        "def sq(n):\n",
        "  answer=[]\n",
        "  for i in n:\n",
        "    answer+=[i**2]\n",
        "  return answer\n",
        "\n",
        "result=sq(listed_s)\n",
        "print(result)"
      ],
      "metadata": {
        "id": "a_1DpUeT3mY9",
        "colab": {
          "base_uri": "https://localhost:8080/"
        },
        "outputId": "4bcb6490-6c8f-4b6a-cb41-961b4886238a"
      },
      "execution_count": null,
      "outputs": [
        {
          "output_type": "stream",
          "name": "stdout",
          "text": [
            "Enter the list with space: 1 2 3 4 5\n",
            "[1, 4, 9, 16, 25]\n"
          ]
        }
      ]
    },
    {
      "cell_type": "code",
      "source": [
        "#4. Write a Python function that checks if a given number is prime or not from 1 to 200.\n",
        "a=int(input(\"Enter a number from 1 to 200:\"))\n",
        "\n",
        "def is_prime(a):\n",
        "     if a<2:\n",
        "      return False\n",
        "     for i in range(2, a): # Check divisibility from 2 to a\n",
        "      if a % i == 0:      # If a is divisible by i, it's not prime\n",
        "         return False\n",
        "      return True  # If no divisors were found, the number is\n",
        "\n",
        "if is_prime(a) == True:\n",
        "    print(f\"{a} is a prime number.\")\n",
        "else:\n",
        "    print(f\"{a} is not a prime number.\")\n",
        "\n"
      ],
      "metadata": {
        "id": "vb3Hw3Ti3mhj",
        "colab": {
          "base_uri": "https://localhost:8080/"
        },
        "outputId": "4991b136-101e-485d-d64a-9b01ebc7c6b2"
      },
      "execution_count": null,
      "outputs": [
        {
          "output_type": "stream",
          "name": "stdout",
          "text": [
            "Enter a number from 1 to 200:5\n",
            "5 is a prime number.\n"
          ]
        }
      ]
    },
    {
      "cell_type": "code",
      "source": [
        "#5. Create an iterator class in Python that generates the Fibonacci sequence up to a specified number of\n",
        "#terms.\n",
        "def fib(num):\n",
        "  a, b=0, 1\n",
        "  for i in range(num):\n",
        "    yield a\n",
        "    a,b=b,a+b   #Fibonacci sequence logic.\n",
        "\n",
        "num = int(input(\"Enter Fibonacci numbers: \"))\n",
        "result=fib(num)   #call the fucntion\n",
        "for i in result:  #generator(), yields values one by one, so cannot print directly, so either iterate over it or convert it to a list.\n",
        "    print(i)"
      ],
      "metadata": {
        "id": "hwDXICHu3of3",
        "colab": {
          "base_uri": "https://localhost:8080/"
        },
        "outputId": "9150dcaf-e555-4f4d-8a4b-374f6fefa1c0"
      },
      "execution_count": null,
      "outputs": [
        {
          "output_type": "stream",
          "name": "stdout",
          "text": [
            "Enter Fibonacci numbers: 5\n",
            "0\n",
            "1\n",
            "1\n",
            "2\n",
            "3\n"
          ]
        }
      ]
    },
    {
      "cell_type": "code",
      "source": [
        "#6. Write a generator function in Python that yields the powers of 2 up to a given exponent.\n",
        "def pow(n):\n",
        "  for i in range(0,n+1):\n",
        "    yield 2**i\n",
        "\n",
        "user_input=int(input(\"Enter the exponent: \"))\n",
        "\n",
        "result=pow(user_input)  #call the generator function\n",
        "\n",
        "for i in result:      #Print each power of 2\n",
        "  print(i)"
      ],
      "metadata": {
        "id": "QdjGKPcc3oqy",
        "colab": {
          "base_uri": "https://localhost:8080/"
        },
        "outputId": "ede5d7dc-0f9a-4187-81b1-87e5d33df611"
      },
      "execution_count": null,
      "outputs": [
        {
          "output_type": "stream",
          "name": "stdout",
          "text": [
            "Enter the exponent: 3\n",
            "1\n",
            "2\n",
            "4\n",
            "8\n"
          ]
        }
      ]
    },
    {
      "cell_type": "code",
      "source": [
        "#7. Implement a generator function that reads a file line by line and yields each line as a string.\n",
        "\n",
        "s=input(\"enter the string:\")\n",
        "def my_string(s):\n",
        "  for i in s:\n",
        "    yield i\n",
        "\n",
        "result=my_string(s)\n",
        "for i in result:\n",
        "  print(i, end=\" \")\n"
      ],
      "metadata": {
        "id": "T1AgaTI-3o0s",
        "colab": {
          "base_uri": "https://localhost:8080/"
        },
        "outputId": "1f331a7d-9ad1-4370-abe8-ed953abd160d"
      },
      "execution_count": null,
      "outputs": [
        {
          "output_type": "stream",
          "name": "stdout",
          "text": [
            "enter the string:I am Learning\n",
            "I   a m   L e a r n i n g "
          ]
        }
      ]
    },
    {
      "cell_type": "code",
      "source": [
        "#8. Use a lambda function in Python to sort a list of tuples based on the second element of each tuple."
      ],
      "metadata": {
        "id": "jVtxKzV63o9o"
      },
      "execution_count": null,
      "outputs": []
    },
    {
      "cell_type": "code",
      "source": [
        "#9. Write a Python program that uses `map()` to convert a list of temperatures from Celsius to Fahrenheit.\n",
        "def tempr(t):\n",
        "  print(list(map(lambda c:(c*9/5)+32,t))) # Using map() to convert each Celsius to Fahrenheit\n",
        "\n",
        "t=(0,25,50)   #Define the temperatures\n",
        "tempr(t)     #call the function"
      ],
      "metadata": {
        "id": "cwlpNbFk3pGH",
        "colab": {
          "base_uri": "https://localhost:8080/"
        },
        "outputId": "87229f9d-e839-4567-d07c-7e105288a788"
      },
      "execution_count": null,
      "outputs": [
        {
          "output_type": "stream",
          "name": "stdout",
          "text": [
            "[32.0, 77.0, 122.0]\n"
          ]
        }
      ]
    },
    {
      "cell_type": "code",
      "source": [
        "#10. Create a Python program that uses `filter()` to remove all the vowels from a given string.\n",
        "s=input(\"Enter a string: \")\n",
        "def vow(s):\n",
        "  vowels=['a','e','i','o','u','A','E','I','O','U']\n",
        "  result =filter(lambda x:x not in vowels,s)    # Filter out vowels\n",
        "  for i in result: # Iterate over the filtered result to print, as done in case of generator()\n",
        "   print(i,end=\"\")\n",
        "vow(s)"
      ],
      "metadata": {
        "id": "dG6nI2353pPe",
        "colab": {
          "base_uri": "https://localhost:8080/"
        },
        "outputId": "570ca824-8f93-4b62-be10-af14f2ebce0a"
      },
      "execution_count": null,
      "outputs": [
        {
          "output_type": "stream",
          "name": "stdout",
          "text": [
            "Enter a string: Good Morning\n",
            "Gd Mrnng"
          ]
        }
      ]
    },
    {
      "cell_type": "code",
      "source": [
        "#11) Imagine an accounting routine used in a book shop. It works on a list with sublists, which look like this:\n",
        "''' Order No.  Book Title and Author                 Quantity   Price per item\n",
        "     34587      Learning Python, Mark Lutz              4            40.95\n",
        "     98762      Programming Python, Mark Lutz           5            56.80\n",
        "     77226      Head First Python, Paul Barry           3            32.95\n",
        "     88112      Einführung in Python3, Bernd Klein      3            24.99  '''\n",
        "#Write a Python program, which returns a list with 2-tuples. Each tuple consists of the order number and the\n",
        "#product of the price per item and the quantity. The product should be increased by 10,- € if the value of the\n",
        "#order is smaller than 100.00 €.\n",
        "\n",
        "#Write a Python program using lambda and map\n",
        "\n",
        "order_list= [\n",
        "    (34587, \"Learning Python, Mark Lutz\", 4, 40.95),\n",
        "    (98762, \"Programming Python, Mark Lutz\", 5, 56.80),\n",
        "    (77226, \"Head First Python, Paul Barry\", 3, 32.95),\n",
        "    (88112, \"Einführung in Python3, Bernd Klein\", 3, 24.99)\n",
        "]\n",
        "\n",
        "result= list(map(lambda x:(x[0], x[2]*x[3]+(10 if x[2]*x[3]<100 else 0)),order_list))\n",
        "print(result)\n",
        "\n",
        "#map function applies a lambda function to each order.\n",
        "#lambda function calculates the total price (quantity * price per item).\n",
        "#If the total is less than 100, it adds 10 to the value.\n",
        "#The result is a list of tuples with (order number, final total price)."
      ],
      "metadata": {
        "id": "DPvLd3IiANZT",
        "colab": {
          "base_uri": "https://localhost:8080/"
        },
        "outputId": "59103bf7-afc8-48f9-8dbe-35f3bbaf59c7"
      },
      "execution_count": null,
      "outputs": [
        {
          "output_type": "stream",
          "name": "stdout",
          "text": [
            "[(34587, 163.8), (98762, 284.0), (77226, 108.85000000000001), (88112, 84.97)]\n"
          ]
        }
      ]
    },
    {
      "cell_type": "code",
      "source": [],
      "metadata": {
        "id": "US5gylyY98u1"
      },
      "execution_count": null,
      "outputs": []
    }
  ]
}